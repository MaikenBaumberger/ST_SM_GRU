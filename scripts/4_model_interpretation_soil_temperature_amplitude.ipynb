{
 "cells": [
  {
   "cell_type": "markdown",
   "metadata": {},
   "source": [
    "## Model interpretation\n",
    "\n",
    "### Investigation on the damping effect of differnt air temperature amplitudes in the soil temperature model"
   ]
  },
  {
   "cell_type": "code",
   "execution_count": null,
   "metadata": {},
   "outputs": [],
   "source": [
    "import pandas as pd\n",
    "from pandas import array\n",
    "\n",
    "import numpy as np\n",
    "import time\n",
    "import math\n",
    "%matplotlib widget\n",
    "import matplotlib.pyplot as plt\n",
    "import matplotlib.dates\n",
    "\n",
    "from numpy.lib import stride_tricks\n",
    "\n",
    "from keras.models import Model\n",
    "from keras.layers import Input, LSTM, Dense, LSTMCell, RNN, Bidirectional, Concatenate, GRU, RepeatVector, TimeDistributed, Dropout, Concatenate, BatchNormalization\n",
    "from keras.optimizers import Adam\n",
    "from keras.utils.vis_utils import plot_model\n",
    "from keras import callbacks, layers\n",
    "\n",
    "import tensorflow as tf\n",
    "\n",
    "from scipy import signal\n",
    "\n",
    "#from tensorflow import keras\n",
    "#from tensorflow.keras import layers\n",
    "print(np.version.version)\n",
    "print(tf.__version__)"
   ]
  },
  {
   "cell_type": "markdown",
   "metadata": {},
   "source": [
    "### Load soil temperature model"
   ]
  },
  {
   "cell_type": "code",
   "execution_count": 2,
   "metadata": {},
   "outputs": [],
   "source": [
    "#new_model = tf.keras.models.load_model('') #  fill in the directory to the model"
   ]
  },
  {
   "cell_type": "markdown",
   "metadata": {},
   "source": [
    "### Read data"
   ]
  },
  {
   "cell_type": "code",
   "execution_count": 4,
   "metadata": {},
   "outputs": [],
   "source": [
    "windowSize=240\n",
    "\n",
    "data_row = pd.read_csv(\"data_st_sm_11_years.csv\")\n",
    "\n",
    "at = np.squeeze(data_row[\"AirTempHourely\"].to_numpy())\n",
    "pr = np.squeeze(data_row[\"PrecHourely\"].to_numpy())\n",
    "st05 = np.squeeze(data_row[\"SoilTempHourely\"].to_numpy()) \n",
    "sm05 = np.squeeze(data_row[\"SoilMoiHourely\"].to_numpy()) \n"
   ]
  },
  {
   "cell_type": "markdown",
   "metadata": {},
   "source": [
    "### Data normalisation"
   ]
  },
  {
   "cell_type": "code",
   "execution_count": 5,
   "metadata": {},
   "outputs": [],
   "source": [
    "def create_norm_seq(seq,seq_norm_factor):\n",
    "    seq_norm= (seq-np.min(seq_norm_factor))/(np.max(seq_norm_factor)-np.min(seq_norm_factor))\n",
    "    return seq_norm\n",
    "\n",
    "def create_re_norm_seq(seq,seq_norm_factor):\n",
    "    re_norm_seq = (seq*(max(seq_norm_factor)-min(seq_norm_factor)))+min(seq_norm_factor)#(seq-np.min(seq))/(np.max(seq)-np.min(seq))\n",
    "    return re_norm_seq\n"
   ]
  },
  {
   "cell_type": "markdown",
   "metadata": {},
   "source": [
    "### Function for model prediciton"
   ]
  },
  {
   "cell_type": "code",
   "execution_count": 6,
   "metadata": {},
   "outputs": [],
   "source": [
    "\n",
    "def predict_sequence(input_array_1,input_array_2):\n",
    "    seqNum=np.floor(len(input_array_1)/windowSize)\n",
    "\n",
    "    data2a = input_array_1[:int(seqNum)*windowSize]\n",
    "    x1=np.split(data2a,seqNum)\n",
    "    x1=np.stack(x1,axis=1)\n",
    "\n",
    "    data2b = input_array_2[:int(seqNum)*windowSize]\n",
    "    x2=np.split(data2b,seqNum)\n",
    "    x2=np.stack(x2,axis=1)\n",
    "\n",
    "    x1 = np.transpose(x1)\n",
    "    x1 = x1.reshape(x1.shape[0],x1.shape[1],1)\n",
    "\n",
    "    x2 = np.transpose(x2)\n",
    "    x2 = x2.reshape(x2.shape[0],x2.shape[1],1)\n",
    "\n",
    "    year_predict = new_model.predict([x1,x2],batch_size=1)\n",
    "\n",
    "    year_predict = np.squeeze(year_predict)\n",
    "    year_predict = year_predict.ravel()\n",
    "\n",
    "    return year_predict\n"
   ]
  },
  {
   "cell_type": "markdown",
   "metadata": {},
   "source": [
    "### Specifications of the simplified synthetic air temperature sequence"
   ]
  },
  {
   "cell_type": "code",
   "execution_count": 7,
   "metadata": {},
   "outputs": [],
   "source": [
    "Fs = 2400 #8760\n",
    "f = 1/24\n",
    "sample = 2400#8760\n",
    "period = 24/Fs\n",
    "x = np.arange(sample)\n",
    "rain_zero = np.zeros(Fs)"
   ]
  },
  {
   "cell_type": "markdown",
   "metadata": {},
   "source": [
    "### One single example of the damping effect in the model to investigate the temporal shift of the sequences"
   ]
  },
  {
   "cell_type": "code",
   "execution_count": null,
   "metadata": {},
   "outputs": [],
   "source": [
    "temp_sine= 2.5*np.sin(Fs*2 * np.pi * f * x/Fs)+10\n",
    "rain_zero = np.zeros(Fs)\n",
    "\n",
    "temp_sine_norm = create_norm_seq(temp_sine,at)\n",
    "\n",
    "soil_sine_norm_t = predict_sequence(temp_sine_norm,rain_zero)\n",
    "\n",
    "soil_sine_t = create_re_norm_seq(soil_sine_norm_t,st05)\n",
    "\n",
    "plt.figure(figsize=(10,5))\n",
    "plt.margins(x=0)\n",
    "plt.subplots_adjust(left=0.2, right=0.9, top=0.9, bottom=0.2)\n",
    "plt.plot(temp_sine[1000:1240],label=\"Input: Synthetic air temperature\",color=\"pink\",alpha=0.7,zorder=1)\n",
    "plt.plot(soil_sine_t[1000:1240],label=\"Prediction: Soil temperature\",color=\"red\")\n",
    "plt.ylabel(\"Soil / air temperature [°C]\",fontsize=13)\n",
    "plt.tick_params(labelsize= 13)\n",
    "plt.xlabel(\"Hours [h]\",fontsize=13)\n",
    "plt.legend(prop={'size': 13},loc='lower left')\n",
    "plt.ylim(5,15)\n",
    "plt.show()"
   ]
  },
  {
   "cell_type": "markdown",
   "metadata": {},
   "source": [
    "### Model predictions based on air temperature with different amplitudes"
   ]
  },
  {
   "cell_type": "code",
   "execution_count": null,
   "metadata": {},
   "outputs": [],
   "source": [
    "\n",
    "ampArray = np.arange(0.2, 7, 0.2)\n",
    "\n",
    "amplitudeList = []\n",
    "lagList = []\n",
    "airTempList = []\n",
    "soilTempList = []\n",
    "\n",
    "\n",
    "for amp in ampArray:\n",
    "    \n",
    "    air_temperature = amp*np.sin(Fs*2 * np.pi * f * x/Fs)+10#2.5*np.sin(freq*2 * np.pi * f * x/Fs)#10\n",
    "    air_temperature_norm = create_norm_seq(air_temperature,at)\n",
    "    soil_temperature_norm = predict_sequence(air_temperature_norm, rain_zero)\n",
    "    soil_temperature_norm = predict_sequence(air_temperature_norm, rain_zero)\n",
    "    soil_temperature_norm = predict_sequence(air_temperature_norm, rain_zero)\n",
    "    soil_temperature = create_re_norm_seq(soil_temperature_norm,st05)\n",
    "\n",
    "    airTempList.append(air_temperature)\n",
    "    soilTempList.append(soil_temperature)\n",
    "\n",
    "    amplitude = max(soil_temperature[500:2500])-min(soil_temperature[500:2500])\n",
    "    amplitudeList.append(amplitude)\n",
    "\n",
    "    correlation = signal.correlate(air_temperature, soil_temperature, mode=\"full\")\n",
    "    lags = signal.correlation_lags(air_temperature.size, soil_temperature.size, mode=\"full\")\n",
    "    lag = lags[np.argmax(correlation)]\n",
    "    lagList.append(lag)\n",
    "print(amplitudeList)\n",
    "\n",
    "amplitudeArray_10=np.array(amplitudeList)\n",
    "lagArray_10=np.array(lagList)"
   ]
  },
  {
   "cell_type": "markdown",
   "metadata": {},
   "source": [
    "### Load data again"
   ]
  },
  {
   "cell_type": "code",
   "execution_count": 11,
   "metadata": {},
   "outputs": [],
   "source": [
    "import pandas as pd\n",
    "\n",
    "df = pd.read_csv(\"data_st_sm_11_years.csv\")"
   ]
  },
  {
   "cell_type": "code",
   "execution_count": 13,
   "metadata": {},
   "outputs": [],
   "source": [
    "from scipy.fft import fft, fftfreq\n",
    "import numpy as np"
   ]
  },
  {
   "cell_type": "markdown",
   "metadata": {},
   "source": [
    "### Create air temperature and soil temperature sequence"
   ]
  },
  {
   "cell_type": "code",
   "execution_count": 14,
   "metadata": {},
   "outputs": [],
   "source": [
    "at_seq = df['AirTempHourely'].to_numpy()\n",
    "st_seq = df['SoilTempHourely'].to_numpy()"
   ]
  },
  {
   "cell_type": "markdown",
   "metadata": {},
   "source": [
    "### Extract corresponding amplitudes of air temperature and soil temperature from the measurement data"
   ]
  },
  {
   "cell_type": "code",
   "execution_count": null,
   "metadata": {},
   "outputs": [],
   "source": [
    "splits = int(len(at_seq)/168)-1\n",
    "\n",
    "list_amp=[]\n",
    "amp_damping_freq=[]\n",
    "for i in range(splits):\n",
    "    st = st_seq[i*168:(i+1)*168]\n",
    "    at = at_seq[i*168:(i+1)*168]\n",
    "    st_mean = np.mean(st)\n",
    "    at_mean = np.mean(at)\n",
    "    N = int(len(at))\n",
    "    dt = 1 #hours\n",
    "\n",
    "    yf = np.abs(fft(at)[:N//2])\n",
    "    xf = fftfreq(N, dt)[:N//2]\n",
    "    yf_st = np.abs(fft(st))[:N//2]\n",
    "\n",
    "    daily_amp_at = yf[np.argmin(np.abs((1/xf)-24))]*2.0/N\n",
    "    daily_amp_st = yf_st[np.argmin(np.abs((1/xf)-24))]*2.0/N\n",
    "    list_amp.append([at_mean, st_mean, daily_amp_at, daily_amp_st])\n",
    "    amp_damping_freq.append(yf_st/yf)\n",
    "        "
   ]
  },
  {
   "cell_type": "code",
   "execution_count": 17,
   "metadata": {},
   "outputs": [],
   "source": [
    "amp_damping_freq_array= np.array(amp_damping_freq)"
   ]
  },
  {
   "cell_type": "code",
   "execution_count": 18,
   "metadata": {},
   "outputs": [],
   "source": [
    "amp_array =np.array(list_amp)\n",
    "amp_array\n",
    "\n",
    "amp_df = pd.DataFrame()\n",
    "amp_df['at_mean'] = amp_array[:,0]\n",
    "amp_df['st_mean'] = amp_array[:,1]\n",
    "amp_df['daily_amp_at'] = amp_array[:,2]\n",
    "amp_df['daily_amp_st'] = amp_array[:,3]"
   ]
  },
  {
   "cell_type": "code",
   "execution_count": 19,
   "metadata": {},
   "outputs": [],
   "source": [
    "amp_df_filtered = amp_df.loc[(amp_df['at_mean'] > 6)&(amp_df['at_mean'] < 15 ) ]"
   ]
  },
  {
   "cell_type": "markdown",
   "metadata": {},
   "source": [
    "### Damping effect of the soil temperature model "
   ]
  },
  {
   "cell_type": "code",
   "execution_count": null,
   "metadata": {},
   "outputs": [],
   "source": [
    "\n",
    "plt.figure(figsize=(5,5))\n",
    "plt.scatter(amp_df_filtered['daily_amp_at'], amp_df_filtered['daily_amp_st'],color=\"indianred\",alpha=0.5,linewidth=0,s=70,label = \"In situ data\")\n",
    "plt.plot(ampArray,amplitudeArray_10,'g^',color=\"black\",markersize=7,label=\"Model prediction\")\n",
    "plt.xlabel(\"Amplitude Air Temperature [°C]\",fontsize = 13)\n",
    "plt.ylabel(\"Amplitude Soil Temperature [°C]\",fontsize = 13)\n",
    "plt.xticks(fontsize = 13)\n",
    "plt.yticks(fontsize = 13)\n",
    "plt.legend(fontsize = 13)\n",
    "plt.xlim(-0.2,5.1)\n",
    "plt.ylim(-0.05,1)\n",
    "plt.show()"
   ]
  },
  {
   "cell_type": "markdown",
   "metadata": {},
   "source": [
    "### Creating plot for publication"
   ]
  },
  {
   "cell_type": "code",
   "execution_count": null,
   "metadata": {},
   "outputs": [],
   "source": [
    "fig, ax = plt.subplots(1,2,figsize=(15,5),width_ratios=[2, 1])\n",
    "fig.subplots_adjust(bottom=0.17,right=0.9,wspace=0.2)\n",
    "\n",
    "ax[0].margins(x=0)\n",
    "ax[0].plot(temp_sine[1000:1240],label=\"Input: Synthetic air temperature\",color=\"pink\",alpha=0.9,zorder=1)\n",
    "ax[0].plot(soil_sine_t[1000:1240],label=\"Prediction: Soil temperature\",color=\"red\")\n",
    "ax[0].set_ylabel(\"Soil / air temperature [°C]\",fontsize=13)\n",
    "ax[0].tick_params(labelsize= 13)\n",
    "ax[0].set_xlabel(\"Hours [h]\",fontsize=13)\n",
    "ax[0].legend(prop={'size': 13},loc='upper left')\n",
    "ax[0].set_ylim(5,15)\n",
    "\n",
    "ax[1].scatter(amp_df_filtered['daily_amp_at'], amp_df_filtered['daily_amp_st'],color=\"indianred\",alpha=0.5,linewidth=0,s=70,label = \"Measurement data\")\n",
    "ax[1].plot(ampArray,amplitudeArray_10,'g^',color=\"black\",markersize=7,label=\"Model prediction\")\n",
    "ax[1].set_xlabel(\"Amplitude Air Temperature [°C]\",fontsize = 13)\n",
    "ax[1].set_ylabel(\"Amplitude Soil Temperature [°C]\",fontsize = 13)\n",
    "ax[1].tick_params(labelsize = 13)\n",
    "ax[1].legend(fontsize = 13)\n",
    "ax[1].set_xlim(-0.2,5.1)\n",
    "ax[1].set_ylim(-0.1,0.95)\n",
    "\n",
    "ax[0].text(-19, 14.9, \"(a)\", fontsize = 21)#weight='bold'\n",
    "ax[1].text(-1.05, 0.94, \"(b)\", fontsize = 21)\n",
    "\n",
    "\n",
    "\n",
    "plt.savefig('Fig5.pdf',bbox_inches='tight')\n"
   ]
  }
 ],
 "metadata": {
  "kernelspec": {
   "display_name": "tf_new",
   "language": "python",
   "name": "python3"
  },
  "language_info": {
   "codemirror_mode": {
    "name": "ipython",
    "version": 3
   },
   "file_extension": ".py",
   "mimetype": "text/x-python",
   "name": "python",
   "nbconvert_exporter": "python",
   "pygments_lexer": "ipython3",
   "version": "3.10.8"
  },
  "orig_nbformat": 4
 },
 "nbformat": 4,
 "nbformat_minor": 2
}
